{
  "nbformat": 4,
  "nbformat_minor": 0,
  "metadata": {
    "colab": {
      "provenance": []
    },
    "kernelspec": {
      "name": "python3",
      "display_name": "Python 3"
    },
    "language_info": {
      "name": "python"
    }
  },
  "cells": [
    {
      "cell_type": "code",
      "execution_count": 308,
      "metadata": {
        "colab": {
          "base_uri": "https://localhost:8080/"
        },
        "id": "hcl8SDJL2Uta",
        "outputId": "1181f1f8-7a69-4ac5-dd7a-92b424617160"
      },
      "outputs": [
        {
          "output_type": "stream",
          "name": "stdout",
          "text": [
            "Drive already mounted at /content/drive; to attempt to forcibly remount, call drive.mount(\"/content/drive\", force_remount=True).\n"
          ]
        }
      ],
      "source": [
        "from google.colab import drive\n",
        "drive.mount('/content/drive')\n"
      ]
    },
    {
      "cell_type": "code",
      "source": [
        "import pandas as pd\n",
        "import numpy as np\n",
        "from sklearn.model_selection import train_test_split, GridSearchCV\n",
        "from sklearn.preprocessing import LabelEncoder, StandardScaler\n",
        "from sklearn.ensemble import RandomForestClassifier\n",
        "from xgboost import XGBClassifier\n",
        "from sklearn.metrics import accuracy_score, classification_report\n",
        "import matplotlib.pyplot as plt\n",
        "import seaborn as sns\n",
        "from imblearn.over_sampling import SMOTE\n",
        "from sklearn.linear_model import LogisticRegression"
      ],
      "metadata": {
        "id": "qfv06EEE2ycv"
      },
      "execution_count": 309,
      "outputs": []
    },
    {
      "cell_type": "code",
      "source": [
        "filepath = \"/content/drive/MyDrive/pet_disease_dataset_v3.csv\""
      ],
      "metadata": {
        "id": "3o825hX03xLI"
      },
      "execution_count": 310,
      "outputs": []
    },
    {
      "cell_type": "markdown",
      "source": [
        "Cleaning dataset"
      ],
      "metadata": {
        "id": "0J-GAWKe52sZ"
      }
    },
    {
      "cell_type": "code",
      "source": [
        "# Load dataset\n",
        "df = pd.read_csv(filepath)\n"
      ],
      "metadata": {
        "id": "Aa3iuTuA3_9i"
      },
      "execution_count": 311,
      "outputs": []
    },
    {
      "cell_type": "code",
      "source": [
        "df.info()"
      ],
      "metadata": {
        "colab": {
          "base_uri": "https://localhost:8080/"
        },
        "id": "2EYRxo_44dnS",
        "outputId": "ebdb0d74-e8c3-443a-ed1d-a2e88de3d9c8"
      },
      "execution_count": 312,
      "outputs": [
        {
          "output_type": "stream",
          "name": "stdout",
          "text": [
            "<class 'pandas.core.frame.DataFrame'>\n",
            "RangeIndex: 278 entries, 0 to 277\n",
            "Data columns (total 13 columns):\n",
            " #   Column            Non-Null Count  Dtype  \n",
            "---  ------            --------------  -----  \n",
            " 0   Animal_Type       278 non-null    object \n",
            " 1   Breed             278 non-null    object \n",
            " 2   Age               278 non-null    int64  \n",
            " 3   Gender            278 non-null    object \n",
            " 4   Weight            278 non-null    float64\n",
            " 5   Symptom_1         278 non-null    object \n",
            " 6   Symptom_2         278 non-null    object \n",
            " 7   Symptom_3         278 non-null    object \n",
            " 8   Symptom_4         278 non-null    object \n",
            " 9   Duration          278 non-null    object \n",
            " 10  Body_Temperature  278 non-null    object \n",
            " 11  Heart_Rate        278 non-null    int64  \n",
            " 12  Disease_Category  278 non-null    object \n",
            "dtypes: float64(1), int64(2), object(10)\n",
            "memory usage: 28.4+ KB\n"
          ]
        }
      ]
    },
    {
      "cell_type": "code",
      "source": [
        "nan_count = df.isnull().sum().sum()\n",
        "print('Number of NaN values:', nan_count)"
      ],
      "metadata": {
        "colab": {
          "base_uri": "https://localhost:8080/"
        },
        "id": "Pc8gyLXA5JAF",
        "outputId": "24ee4708-dc68-4379-de77-643c5f23ce2f"
      },
      "execution_count": 313,
      "outputs": [
        {
          "output_type": "stream",
          "name": "stdout",
          "text": [
            "Number of NaN values: 0\n"
          ]
        }
      ]
    },
    {
      "cell_type": "code",
      "source": [
        "# Dropping rows with missing values\n",
        "df = df.dropna()\n",
        "nan_count = df.isnull().sum().sum()\n",
        "print('Number of NaN values:', nan_count)"
      ],
      "metadata": {
        "colab": {
          "base_uri": "https://localhost:8080/"
        },
        "id": "8MRPkKcx4YRL",
        "outputId": "7478b8d5-eb08-43b5-8fd0-b78d81ff777b"
      },
      "execution_count": 314,
      "outputs": [
        {
          "output_type": "stream",
          "name": "stdout",
          "text": [
            "Number of NaN values: 0\n"
          ]
        }
      ]
    },
    {
      "cell_type": "markdown",
      "source": [
        "Data visualization"
      ],
      "metadata": {
        "id": "rP9Q_qRueW4h"
      }
    },
    {
      "cell_type": "code",
      "source": [
        "# Distribution of animals\n",
        "sns.countplot(data=df, y='Animal_Type', order=df['Animal_Type'].value_counts().index)\n",
        "plt.title('Distribution of Animal Types')\n",
        "plt.show()"
      ],
      "metadata": {
        "colab": {
          "base_uri": "https://localhost:8080/",
          "height": 472
        },
        "id": "jTgn3Wzz6T0r",
        "outputId": "2fe9ed25-f1da-4ed0-ec3d-7954a607bfb8"
      },
      "execution_count": 315,
      "outputs": [
        {
          "output_type": "display_data",
          "data": {
            "text/plain": [
              "<Figure size 640x480 with 1 Axes>"
            ],
            "image/png": "[encoded data removed]"
          },
          "metadata": {}
        }
      ]
    },
    {
      "cell_type": "code",
      "source": [
        "plt.figure(figsize=(12, 6))\n",
        "sns.countplot(data=df, x='Animal_Type', hue='Gender', order=df['Animal_Type'].value_counts().index)\n",
        "plt.title('Gender Distribution Across Animal Types')\n",
        "plt.show()"
      ],
      "metadata": {
        "colab": {
          "base_uri": "https://localhost:8080/",
          "height": 564
        },
        "id": "XUlATywL7C_w",
        "outputId": "013bb3a6-7ec4-4fd4-da8a-1187e04e887b"
      },
      "execution_count": 316,
      "outputs": [
        {
          "output_type": "display_data",
          "data": {
            "text/plain": [
              "<Figure size 1200x600 with 1 Axes>"
            ],
            "image/png": "[encoded data removed]"
          },
          "metadata": {}
        }
      ]
    },
    {
      "cell_type": "code",
      "source": [
        "# Check class distribution\n",
        "plt.figure(figsize=(12, 6))\n",
        "sns.countplot(x=df['Disease_Category'])\n",
        "plt.xticks(rotation=90)\n",
        "plt.title(\"Class Distribution of Disease Categories\")\n",
        "plt.show()\n"
      ],
      "metadata": {
        "colab": {
          "base_uri": "https://localhost:8080/",
          "height": 834
        },
        "id": "73yslRDPDxk7",
        "outputId": "c5c05c45-5b53-4822-d33f-0e5d3091fe6e"
      },
      "execution_count": 317,
      "outputs": [
        {
          "output_type": "display_data",
          "data": {
            "text/plain": [
              "<Figure size 1200x600 with 1 Axes>"
            ],
            "image/png": "[encoded data removed]"
          },
          "metadata": {}
        }
      ]
    },
    {
      "cell_type": "markdown",
      "source": [
        "Preprocessing"
      ],
      "metadata": {
        "id": "JAwIvvIkebBH"
      }
    },
    {
      "cell_type": "code",
      "source": [
        "# Create 'Duration_Num' and convert to days\n",
        "df['Duration_Num'] = df['Duration'].str.extract('(\\d+)').astype(float)\n",
        "\n",
        "# If the 'Duration' contains 'week', multiply the 'Duration_Num' by 7 to convert to days\n",
        "df.loc[df['Duration'].str.contains('week', case=False, na=False), 'Duration_Num'] *= 7\n",
        "\n",
        "# Drop the original 'Duration' column\n",
        "df.drop(columns=['Duration'], inplace=True)\n"
      ],
      "metadata": {
        "id": "gQs4Z9kj7IfK"
      },
      "execution_count": 318,
      "outputs": []
    },
    {
      "cell_type": "code",
      "source": [
        "# Temperature conversion\n",
        "df['Body_Temperature'] = df['Body_Temperature'].astype(str).str.replace('°C', '', regex=False).astype(float)"
      ],
      "metadata": {
        "id": "eFNxV_Cb7ojK"
      },
      "execution_count": 319,
      "outputs": []
    },
    {
      "cell_type": "code",
      "source": [
        "df.head()"
      ],
      "metadata": {
        "colab": {
          "base_uri": "https://localhost:8080/",
          "height": 293
        },
        "id": "Rw0xKr8A7SwU",
        "outputId": "dcf62f64-6171-487e-f5e0-4e37a3b38cf2"
      },
      "execution_count": 320,
      "outputs": [
        {
          "output_type": "execute_result",
          "data": {
            "text/plain": [
              "  Animal_Type     Breed  Age  Gender  Weight Symptom_1        Symptom_2  \\\n",
              "0         Dog  Labrador    4    Male    25.0     Fever         Lethargy   \n",
              "1         Cat   Siamese    2  Female     4.5  Coughing         Sneezing   \n",
              "2         Cow  Holstein    3  Female   600.0     Fever  Nasal Discharge   \n",
              "3         Dog    Beagle    1    Male    10.0  Diarrhea         Vomiting   \n",
              "4         Cat   Persian    5    Male     3.8  Lethargy    Appetite Loss   \n",
              "\n",
              "           Symptom_3        Symptom_4  Body_Temperature  Heart_Rate  \\\n",
              "0      Appetite Loss         Vomiting              39.5         120   \n",
              "1      Eye Discharge  Nasal Discharge              38.9         150   \n",
              "2  Labored Breathing         Coughing              40.1          90   \n",
              "3           Lethargy    Appetite Loss              39.2         130   \n",
              "4       Skin Lesions               No              38.7         160   \n",
              "\n",
              "             Disease_Category  Duration_Num  \n",
              "0            Viral Infections           3.0  \n",
              "1      Respiratory Infections           7.0  \n",
              "2            Viral Infections           5.0  \n",
              "3   Gastrointestinal Diseases           2.0  \n",
              "4  Fungal and Skin Infections          14.0  "
            ],
            "text/html": [
              "\n",
              "  <div id=\"df-fd293ddd-434d-4bff-9a19-39c9f22bf000\" class=\"colab-df-container\">\n",
              "    <div>\n",
              "<style scoped>\n",
              "    .dataframe tbody tr th:only-of-type {\n",
              "        vertical-align: middle;\n",
              "    }\n",
              "\n",
              "    .dataframe tbody tr th {\n",
              "        vertical-align: top;\n",
              "    }\n",
              "\n",
              "    .dataframe thead th {\n",
              "        text-align: right;\n",
              "    }\n",
              "</style>\n",
              "<table border=\"1\" class=\"dataframe\">\n",
              "  <thead>\n",
              "    <tr style=\"text-align: right;\">\n",
              "      <th></th>\n",
              "      <th>Animal_Type</th>\n",
              "      <th>Breed</th>\n",
              "      <th>Age</th>\n",
              "      <th>Gender</th>\n",
              "      <th>Weight</th>\n",
              "      <th>Symptom_1</th>\n",
              "      <th>Symptom_2</th>\n",
              "      <th>Symptom_3</th>\n",
              "      <th>Symptom_4</th>\n",
              "      <th>Body_Temperature</th>\n",
              "      <th>Heart_Rate</th>\n",
              "      <th>Disease_Category</th>\n",
              "      <th>Duration_Num</th>\n",
              "    </tr>\n",
              "  </thead>\n",
              "  <tbody>\n",
              "    <tr>\n",
              "      <th>0</th>\n",
              "      <td>Dog</td>\n",
              "      <td>Labrador</td>\n",
              "      <td>4</td>\n",
              "      <td>Male</td>\n",
              "      <td>25.0</td>\n",
              "      <td>Fever</td>\n",
              "      <td>Lethargy</td>\n",
              "      <td>Appetite Loss</td>\n",
              "      <td>Vomiting</td>\n",
              "      <td>39.5</td>\n",
              "      <td>120</td>\n",
              "      <td>Viral Infections</td>\n",
              "      <td>3.0</td>\n",
              "    </tr>\n",
              "    <tr>\n",
              "      <th>1</th>\n",
              "      <td>Cat</td>\n",
              "      <td>Siamese</td>\n",
              "      <td>2</td>\n",
              "      <td>Female</td>\n",
              "      <td>4.5</td>\n",
              "      <td>Coughing</td>\n",
              "      <td>Sneezing</td>\n",
              "      <td>Eye Discharge</td>\n",
              "      <td>Nasal Discharge</td>\n",
              "      <td>38.9</td>\n",
              "      <td>150</td>\n",
              "      <td>Respiratory Infections</td>\n",
              "      <td>7.0</td>\n",
              "    </tr>\n",
              "    <tr>\n",
              "      <th>2</th>\n",
              "      <td>Cow</td>\n",
              "      <td>Holstein</td>\n",
              "      <td>3</td>\n",
              "      <td>Female</td>\n",
              "      <td>600.0</td>\n",
              "      <td>Fever</td>\n",
              "      <td>Nasal Discharge</td>\n",
              "      <td>Labored Breathing</td>\n",
              "      <td>Coughing</td>\n",
              "      <td>40.1</td>\n",
              "      <td>90</td>\n",
              "      <td>Viral Infections</td>\n",
              "      <td>5.0</td>\n",
              "    </tr>\n",
              "    <tr>\n",
              "      <th>3</th>\n",
              "      <td>Dog</td>\n",
              "      <td>Beagle</td>\n",
              "      <td>1</td>\n",
              "      <td>Male</td>\n",
              "      <td>10.0</td>\n",
              "      <td>Diarrhea</td>\n",
              "      <td>Vomiting</td>\n",
              "      <td>Lethargy</td>\n",
              "      <td>Appetite Loss</td>\n",
              "      <td>39.2</td>\n",
              "      <td>130</td>\n",
              "      <td>Gastrointestinal Diseases</td>\n",
              "      <td>2.0</td>\n",
              "    </tr>\n",
              "    <tr>\n",
              "      <th>4</th>\n",
              "      <td>Cat</td>\n",
              "      <td>Persian</td>\n",
              "      <td>5</td>\n",
              "      <td>Male</td>\n",
              "      <td>3.8</td>\n",
              "      <td>Lethargy</td>\n",
              "      <td>Appetite Loss</td>\n",
              "      <td>Skin Lesions</td>\n",
              "      <td>No</td>\n",
              "      <td>38.7</td>\n",
              "      <td>160</td>\n",
              "      <td>Fungal and Skin Infections</td>\n",
              "      <td>14.0</td>\n",
              "    </tr>\n",
              "  </tbody>\n",
              "</table>\n",
              "</div>\n",
              "    <div class=\"colab-df-buttons\">\n",
              "\n",
              "  <div class=\"colab-df-container\">\n",
              "    <button class=\"colab-df-convert\" onclick=\"convertToInteractive('df-fd293ddd-434d-4bff-9a19-39c9f22bf000')\"\n",
              "            title=\"Convert this dataframe to an interactive table.\"\n",
              "            style=\"display:none;\">\n",
              "\n",
              "  <svg xmlns=\"http://www.w3.org/2000/svg\" height=\"24px\" viewBox=\"0 -960 960 960\">\n",
              "    <path d=\"M120-120v-720h720v720H120Zm60-500h600v-160H180v160Zm220 220h160v-160H400v160Zm0 220h160v-160H400v160ZM180-400h160v-160H180v160Zm440 0h160v-160H620v160ZM180-180h160v-160H180v160Zm440 0h160v-160H620v160Z\"/>\n",
              "  </svg>\n",
              "    </button>\n",
              "\n",
              "  <style>\n",
              "    .colab-df-container {\n",
              "      display:flex;\n",
              "      gap: 12px;\n",
              "    }\n",
              "\n",
              "    .colab-df-convert {\n",
              "      background-color: #E8F0FE;\n",
              "      border: none;\n",
              "      border-radius: 50%;\n",
              "      cursor: pointer;\n",
              "      display: none;\n",
              "      fill: #1967D2;\n",
              "      height: 32px;\n",
              "      padding: 0 0 0 0;\n",
              "      width: 32px;\n",
              "    }\n",
              "\n",
              "    .colab-df-convert:hover {\n",
              "      background-color: #E2EBFA;\n",
              "      box-shadow: 0px 1px 2px rgba(60, 64, 67, 0.3), 0px 1px 3px 1px rgba(60, 64, 67, 0.15);\n",
              "      fill: #174EA6;\n",
              "    }\n",
              "\n",
              "    .colab-df-buttons div {\n",
              "      margin-bottom: 4px;\n",
              "    }\n",
              "\n",
              "    [theme=dark] .colab-df-convert {\n",
              "      background-color: #3B4455;\n",
              "      fill: #D2E3FC;\n",
              "    }\n",
              "\n",
              "    [theme=dark] .colab-df-convert:hover {\n",
              "      background-color: #434B5C;\n",
              "      box-shadow: 0px 1px 3px 1px rgba(0, 0, 0, 0.15);\n",
              "      filter: drop-shadow(0px 1px 2px rgba(0, 0, 0, 0.3));\n",
              "      fill: #FFFFFF;\n",
              "    }\n",
              "  </style>\n",
              "\n",
              "    <script>\n",
              "      const buttonEl =\n",
              "        document.querySelector('#df-fd293ddd-434d-4bff-9a19-39c9f22bf000 button.colab-df-convert');\n",
              "      buttonEl.style.display =\n",
              "        google.colab.kernel.accessAllowed ? 'block' : 'none';\n",
              "\n",
              "      async function convertToInteractive(key) {\n",
              "        const element = document.querySelector('#df-fd293ddd-434d-4bff-9a19-39c9f22bf000');\n",
              "        const dataTable =\n",
              "          await google.colab.kernel.invokeFunction('convertToInteractive',\n",
              "                                                    [key], {});\n",
              "        if (!dataTable) return;\n",
              "\n",
              "        const docLinkHtml = 'Like what you see? Visit the ' +\n",
              "          '<a target=\"_blank\" href=https://colab.research.google.com/notebooks/data_table.ipynb>data table notebook</a>'\n",
              "          + ' to learn more about interactive tables.';\n",
              "        element.innerHTML = '';\n",
              "        dataTable['output_type'] = 'display_data';\n",
              "        await google.colab.output.renderOutput(dataTable, element);\n",
              "        const docLink = document.createElement('div');\n",
              "        docLink.innerHTML = docLinkHtml;\n",
              "        element.appendChild(docLink);\n",
              "      }\n",
              "    </script>\n",
              "  </div>\n",
              "\n",
              "\n",
              "<div id=\"df-60f7554a-1ac0-4afa-80aa-d96ffa086564\">\n",
              "  <button class=\"colab-df-quickchart\" onclick=\"quickchart('df-60f7554a-1ac0-4afa-80aa-d96ffa086564')\"\n",
              "            title=\"Suggest charts\"\n",
              "            style=\"display:none;\">\n",
              "\n",
              "<svg xmlns=\"http://www.w3.org/2000/svg\" height=\"24px\"viewBox=\"0 0 24 24\"\n",
              "     width=\"24px\">\n",
              "    <g>\n",
              "        <path d=\"M19 3H5c-1.1 0-2 .9-2 2v14c0 1.1.9 2 2 2h14c1.1 0 2-.9 2-2V5c0-1.1-.9-2-2-2zM9 17H7v-7h2v7zm4 0h-2V7h2v10zm4 0h-2v-4h2v4z\"/>\n",
              "    </g>\n",
              "</svg>\n",
              "  </button>\n",
              "\n",
              "<style>\n",
              "  .colab-df-quickchart {\n",
              "      --bg-color: #E8F0FE;\n",
              "      --fill-color: #1967D2;\n",
              "      --hover-bg-color: #E2EBFA;\n",
              "      --hover-fill-color: #174EA6;\n",
              "      --disabled-fill-color: #AAA;\n",
              "      --disabled-bg-color: #DDD;\n",
              "  }\n",
              "\n",
              "  [theme=dark] .colab-df-quickchart {\n",
              "      --bg-color: #3B4455;\n",
              "      --fill-color: #D2E3FC;\n",
              "      --hover-bg-color: #434B5C;\n",
              "      --hover-fill-color: #FFFFFF;\n",
              "      --disabled-bg-color: #3B4455;\n",
              "      --disabled-fill-color: #666;\n",
              "  }\n",
              "\n",
              "  .colab-df-quickchart {\n",
              "    background-color: var(--bg-color);\n",
              "    border: none;\n",
              "    border-radius: 50%;\n",
              "    cursor: pointer;\n",
              "    display: none;\n",
              "    fill: var(--fill-color);\n",
              "    height: 32px;\n",
              "    padding: 0;\n",
              "    width: 32px;\n",
              "  }\n",
              "\n",
              "  .colab-df-quickchart:hover {\n",
              "    background-color: var(--hover-bg-color);\n",
              "    box-shadow: 0 1px 2px rgba(60, 64, 67, 0.3), 0 1px 3px 1px rgba(60, 64, 67, 0.15);\n",
              "    fill: var(--button-hover-fill-color);\n",
              "  }\n",
              "\n",
              "  .colab-df-quickchart-complete:disabled,\n",
              "  .colab-df-quickchart-complete:disabled:hover {\n",
              "    background-color: var(--disabled-bg-color);\n",
              "    fill: var(--disabled-fill-color);\n",
              "    box-shadow: none;\n",
              "  }\n",
              "\n",
              "  .colab-df-spinner {\n",
              "    border: 2px solid var(--fill-color);\n",
              "    border-color: transparent;\n",
              "    border-bottom-color: var(--fill-color);\n",
              "    animation:\n",
              "      spin 1s steps(1) infinite;\n",
              "  }\n",
              "\n",
              "  @keyframes spin {\n",
              "    0% {\n",
              "      border-color: transparent;\n",
              "      border-bottom-color: var(--fill-color);\n",
              "      border-left-color: var(--fill-color);\n",
              "    }\n",
              "    20% {\n",
              "      border-color: transparent;\n",
              "      border-left-color: var(--fill-color);\n",
              "      border-top-color: var(--fill-color);\n",
              "    }\n",
              "    30% {\n",
              "      border-color: transparent;\n",
              "      border-left-color: var(--fill-color);\n",
              "      border-top-color: var(--fill-color);\n",
              "      border-right-color: var(--fill-color);\n",
              "    }\n",
              "    40% {\n",
              "      border-color: transparent;\n",
              "      border-right-color: var(--fill-color);\n",
              "      border-top-color: var(--fill-color);\n",
              "    }\n",
              "    60% {\n",
              "      border-color: transparent;\n",
              "      border-right-color: var(--fill-color);\n",
              "    }\n",
              "    80% {\n",
              "      border-color: transparent;\n",
              "      border-right-color: var(--fill-color);\n",
              "      border-bottom-color: var(--fill-color);\n",
              "    }\n",
              "    90% {\n",
              "      border-color: transparent;\n",
              "      border-bottom-color: var(--fill-color);\n",
              "    }\n",
              "  }\n",
              "</style>\n",
              "\n",
              "  <script>\n",
              "    async function quickchart(key) {\n",
              "      const quickchartButtonEl =\n",
              "        document.querySelector('#' + key + ' button');\n",
              "      quickchartButtonEl.disabled = true;  // To prevent multiple clicks.\n",
              "      quickchartButtonEl.classList.add('colab-df-spinner');\n",
              "      try {\n",
              "        const charts = await google.colab.kernel.invokeFunction(\n",
              "            'suggestCharts', [key], {});\n",
              "      } catch (error) {\n",
              "        console.error('Error during call to suggestCharts:', error);\n",
              "      }\n",
              "      quickchartButtonEl.classList.remove('colab-df-spinner');\n",
              "      quickchartButtonEl.classList.add('colab-df-quickchart-complete');\n",
              "    }\n",
              "    (() => {\n",
              "      let quickchartButtonEl =\n",
              "        document.querySelector('#df-60f7554a-1ac0-4afa-80aa-d96ffa086564 button');\n",
              "      quickchartButtonEl.style.display =\n",
              "        google.colab.kernel.accessAllowed ? 'block' : 'none';\n",
              "    })();\n",
              "  </script>\n",
              "</div>\n",
              "\n",
              "    </div>\n",
              "  </div>\n"
            ],
            "application/vnd.google.colaboratory.intrinsic+json": {
              "type": "dataframe",
              "variable_name": "df",
              "summary": "{\n  \"name\": \"df\",\n  \"rows\": 278,\n  \"fields\": [\n    {\n      \"column\": \"Animal_Type\",\n      \"properties\": {\n        \"dtype\": \"category\",\n        \"num_unique_values\": 8,\n        \"samples\": [\n          \"Cat\",\n          \"Goat\",\n          \"Dog\"\n        ],\n        \"semantic_type\": \"\",\n        \"description\": \"\"\n      }\n    },\n    {\n      \"column\": \"Breed\",\n      \"properties\": {\n        \"dtype\": \"category\",\n        \"num_unique_values\": 93,\n        \"samples\": [\n          \"Percheron\",\n          \"Sphynx\",\n          \"Flemish Giant\"\n        ],\n        \"semantic_type\": \"\",\n        \"description\": \"\"\n      }\n    },\n    {\n      \"column\": \"Age\",\n      \"properties\": {\n        \"dtype\": \"number\",\n        \"std\": 2,\n        \"min\": 1,\n        \"max\": 15,\n        \"num_unique_values\": 15,\n        \"samples\": [\n          12,\n          14,\n          4\n        ],\n        \"semantic_type\": \"\",\n        \"description\": \"\"\n      }\n    },\n    {\n      \"column\": \"Gender\",\n      \"properties\": {\n        \"dtype\": \"category\",\n        \"num_unique_values\": 2,\n        \"samples\": [\n          \"Female\",\n          \"Male\"\n        ],\n        \"semantic_type\": \"\",\n        \"description\": \"\"\n      }\n    },\n    {\n      \"column\": \"Weight\",\n      \"properties\": {\n        \"dtype\": \"number\",\n        \"std\": 269.92468681868394,\n        \"min\": 1.0,\n        \"max\": 850.0,\n        \"num_unique_values\": 98,\n        \"samples\": [\n          42.0,\n          2.0\n        ],\n        \"semantic_type\": \"\",\n        \"description\": \"\"\n      }\n    },\n    {\n      \"column\": \"Symptom_1\",\n      \"properties\": {\n        \"dtype\": \"category\",\n        \"num_unique_values\": 15,\n        \"samples\": [\n          \"Eye Discharge\",\n          \"Swollen Joints\"\n        ],\n        \"semantic_type\": \"\",\n        \"description\": \"\"\n      }\n    },\n    {\n      \"column\": \"Symptom_2\",\n      \"properties\": {\n        \"dtype\": \"category\",\n        \"num_unique_values\": 18,\n        \"samples\": [\n          \"Lethargy\",\n          \"Sneezing\"\n        ],\n        \"semantic_type\": \"\",\n        \"description\": \"\"\n      }\n    },\n    {\n      \"column\": \"Symptom_3\",\n      \"properties\": {\n        \"dtype\": \"category\",\n        \"num_unique_values\": 17,\n        \"samples\": [\n          \"Appetite Loss\",\n          \"Eye Discharge\"\n        ],\n        \"semantic_type\": \"\",\n        \"description\": \"\"\n      }\n    },\n    {\n      \"column\": \"Symptom_4\",\n      \"properties\": {\n        \"dtype\": \"category\",\n        \"num_unique_values\": 21,\n        \"samples\": [\n          \"Vomiting\",\n          \"Lameness\"\n        ],\n        \"semantic_type\": \"\",\n        \"description\": \"\"\n      }\n    },\n    {\n      \"column\": \"Body_Temperature\",\n      \"properties\": {\n        \"dtype\": \"number\",\n        \"std\": 0.3192911857279119,\n        \"min\": 38.5,\n        \"max\": 40.2,\n        \"num_unique_values\": 18,\n        \"samples\": [\n          39.5,\n          38.9\n        ],\n        \"semantic_type\": \"\",\n        \"description\": \"\"\n      }\n    },\n    {\n      \"column\": \"Heart_Rate\",\n      \"properties\": {\n        \"dtype\": \"number\",\n        \"std\": 27,\n        \"min\": 70,\n        \"max\": 160,\n        \"num_unique_values\": 55,\n        \"samples\": [\n          86,\n          85\n        ],\n        \"semantic_type\": \"\",\n        \"description\": \"\"\n      }\n    },\n    {\n      \"column\": \"Disease_Category\",\n      \"properties\": {\n        \"dtype\": \"category\",\n        \"num_unique_values\": 14,\n        \"samples\": [\n          \"Autoimmune and Inflammatory Diseases\",\n          \"Avian Diseases\"\n        ],\n        \"semantic_type\": \"\",\n        \"description\": \"\"\n      }\n    },\n    {\n      \"column\": \"Duration_Num\",\n      \"properties\": {\n        \"dtype\": \"number\",\n        \"std\": 1.839835855270696,\n        \"min\": 2.0,\n        \"max\": 14.0,\n        \"num_unique_values\": 11,\n        \"samples\": [\n          10.0,\n          3.0\n        ],\n        \"semantic_type\": \"\",\n        \"description\": \"\"\n      }\n    }\n  ]\n}"
            }
          },
          "metadata": {},
          "execution_count": 320
        }
      ]
    },
    {
      "cell_type": "code",
      "source": [
        "# Encode categorical variables using appropriate encoding\n",
        "label_encoders = {}\n",
        "\n",
        "# Label encode Animal Type, Gender, and Disease Prediction (no inherent order)\n",
        "for col in ['Animal_Type', 'Gender', 'Disease_Category']:\n",
        "    le = LabelEncoder()\n",
        "    df[col] = le.fit_transform(df[col])\n",
        "    label_encoders[col] = le\n",
        "\n",
        "# One-hot encode Breed and Symptoms (these are categorical without order)\n",
        "df = pd.get_dummies(df, columns=['Breed', 'Symptom_1', 'Symptom_2', 'Symptom_3', 'Symptom_4'], drop_first=True)\n"
      ],
      "metadata": {
        "id": "5Cotqz3lATif"
      },
      "execution_count": 321,
      "outputs": []
    },
    {
      "cell_type": "code",
      "source": [
        "# Normalize numerical features\n",
        "scaler = StandardScaler()\n",
        "df[['Age', 'Weight', 'Body_Temperature', 'Heart_Rate']] = scaler.fit_transform(df[['Age', 'Weight', 'Body_Temperature', 'Heart_Rate']])\n",
        "\n",
        "\n",
        "# No scaling for Duration_Num: It's already a meaningful numeric feature representing days, so we leave it as is.\n",
        "\n",
        "# Scaling is applied to numerical features like Age, Weight, Body_Temperature, and Heart_Rate: These values vary on different scales and need to be normalized for better model performance."
      ],
      "metadata": {
        "id": "eMXGZtpJA2cr"
      },
      "execution_count": 322,
      "outputs": []
    },
    {
      "cell_type": "code",
      "source": [
        "# Split dataset into training and testing sets\n",
        "X = df.drop(columns=['Disease_Category'])\n",
        "y = df['Disease_Category']\n",
        "X_train, X_test, y_train, y_test = train_test_split(X, y, test_size=0.2, random_state=42)"
      ],
      "metadata": {
        "id": "nkw5ap0fGDwn"
      },
      "execution_count": 323,
      "outputs": []
    },
    {
      "cell_type": "markdown",
      "source": [
        "Model training"
      ],
      "metadata": {
        "id": "6oYEJNmpfc1E"
      }
    },
    {
      "cell_type": "code",
      "source": [
        "# Train RandomForest model\n",
        "rf_model = RandomForestClassifier(n_estimators=100, random_state=42)\n",
        "rf_model.fit(X_train, y_train)\n",
        "\n",
        "# Train XGBoost model\n",
        "xgb_model = XGBClassifier(use_label_encoder=False, eval_metric='mlogloss', random_state=42)\n",
        "xgb_model.fit(X_train, y_train)\n",
        "\n",
        "# Evaluate models\n",
        "def evaluate_model(model, name):\n",
        "    y_pred = model.predict(X_test)\n",
        "    print(f\"\\n{name} Model Performance:\")\n",
        "    print(\"Accuracy:\", accuracy_score(y_test, y_pred))\n",
        "    print(classification_report(y_test, y_pred))\n",
        "\n",
        "evaluate_model(rf_model, \"RandomForest\")\n",
        "evaluate_model(xgb_model, \"XGBoost\")"
      ],
      "metadata": {
        "colab": {
          "base_uri": "https://localhost:8080/"
        },
        "id": "CXudsvmBdBVg",
        "outputId": "b88ebc46-1845-4a79-d241-604fce3ed719"
      },
      "execution_count": 324,
      "outputs": [
        {
          "output_type": "stream",
          "name": "stderr",
          "text": [
            "/usr/local/lib/python3.11/dist-packages/xgboost/core.py:158: UserWarning: [11:16:40] WARNING: /workspace/src/learner.cc:740: \n",
            "Parameters: { \"use_label_encoder\" } are not used.\n",
            "\n",
            "  warnings.warn(smsg, UserWarning)\n"
          ]
        },
        {
          "output_type": "stream",
          "name": "stdout",
          "text": [
            "\n",
            "RandomForest Model Performance:\n",
            "Accuracy: 0.7321428571428571\n",
            "              precision    recall  f1-score   support\n",
            "\n",
            "           1       0.00      0.00      0.00         1\n",
            "           2       0.83      1.00      0.91        10\n",
            "           3       0.56      0.83      0.67         6\n",
            "           4       0.89      1.00      0.94         8\n",
            "           5       0.89      1.00      0.94         8\n",
            "           6       0.00      0.00      0.00         0\n",
            "           7       0.50      0.33      0.40         3\n",
            "           8       0.80      0.40      0.53        10\n",
            "           9       0.00      0.00      0.00         1\n",
            "          10       1.00      0.50      0.67         2\n",
            "          11       1.00      0.50      0.67         4\n",
            "          12       0.33      1.00      0.50         2\n",
            "          13       0.00      0.00      0.00         1\n",
            "\n",
            "    accuracy                           0.73        56\n",
            "   macro avg       0.52      0.51      0.48        56\n",
            "weighted avg       0.75      0.73      0.71        56\n",
            "\n",
            "\n",
            "XGBoost Model Performance:\n",
            "Accuracy: 0.8035714285714286\n",
            "              precision    recall  f1-score   support\n",
            "\n",
            "           0       0.00      0.00      0.00         0\n",
            "           1       0.00      0.00      0.00         1\n",
            "           2       0.83      1.00      0.91        10\n",
            "           3       0.83      0.83      0.83         6\n",
            "           4       0.89      1.00      0.94         8\n",
            "           5       1.00      0.88      0.93         8\n",
            "           7       0.50      0.67      0.57         3\n",
            "           8       0.80      0.80      0.80        10\n",
            "           9       0.00      0.00      0.00         1\n",
            "          10       1.00      0.50      0.67         2\n",
            "          11       1.00      0.50      0.67         4\n",
            "          12       1.00      1.00      1.00         2\n",
            "          13       0.00      0.00      0.00         1\n",
            "\n",
            "    accuracy                           0.80        56\n",
            "   macro avg       0.60      0.55      0.56        56\n",
            "weighted avg       0.82      0.80      0.80        56\n",
            "\n"
          ]
        },
        {
          "output_type": "stream",
          "name": "stderr",
          "text": [
            "/usr/local/lib/python3.11/dist-packages/sklearn/metrics/_classification.py:1565: UndefinedMetricWarning: Precision is ill-defined and being set to 0.0 in labels with no predicted samples. Use `zero_division` parameter to control this behavior.\n",
            "  _warn_prf(average, modifier, f\"{metric.capitalize()} is\", len(result))\n",
            "/usr/local/lib/python3.11/dist-packages/sklearn/metrics/_classification.py:1565: UndefinedMetricWarning: Recall is ill-defined and being set to 0.0 in labels with no true samples. Use `zero_division` parameter to control this behavior.\n",
            "  _warn_prf(average, modifier, f\"{metric.capitalize()} is\", len(result))\n",
            "/usr/local/lib/python3.11/dist-packages/sklearn/metrics/_classification.py:1565: UndefinedMetricWarning: Precision is ill-defined and being set to 0.0 in labels with no predicted samples. Use `zero_division` parameter to control this behavior.\n",
            "  _warn_prf(average, modifier, f\"{metric.capitalize()} is\", len(result))\n",
            "/usr/local/lib/python3.11/dist-packages/sklearn/metrics/_classification.py:1565: UndefinedMetricWarning: Recall is ill-defined and being set to 0.0 in labels with no true samples. Use `zero_division` parameter to control this behavior.\n",
            "  _warn_prf(average, modifier, f\"{metric.capitalize()} is\", len(result))\n",
            "/usr/local/lib/python3.11/dist-packages/sklearn/metrics/_classification.py:1565: UndefinedMetricWarning: Precision is ill-defined and being set to 0.0 in labels with no predicted samples. Use `zero_division` parameter to control this behavior.\n",
            "  _warn_prf(average, modifier, f\"{metric.capitalize()} is\", len(result))\n",
            "/usr/local/lib/python3.11/dist-packages/sklearn/metrics/_classification.py:1565: UndefinedMetricWarning: Recall is ill-defined and being set to 0.0 in labels with no true samples. Use `zero_division` parameter to control this behavior.\n",
            "  _warn_prf(average, modifier, f\"{metric.capitalize()} is\", len(result))\n",
            "/usr/local/lib/python3.11/dist-packages/sklearn/metrics/_classification.py:1565: UndefinedMetricWarning: Precision is ill-defined and being set to 0.0 in labels with no predicted samples. Use `zero_division` parameter to control this behavior.\n",
            "  _warn_prf(average, modifier, f\"{metric.capitalize()} is\", len(result))\n",
            "/usr/local/lib/python3.11/dist-packages/sklearn/metrics/_classification.py:1565: UndefinedMetricWarning: Recall is ill-defined and being set to 0.0 in labels with no true samples. Use `zero_division` parameter to control this behavior.\n",
            "  _warn_prf(average, modifier, f\"{metric.capitalize()} is\", len(result))\n",
            "/usr/local/lib/python3.11/dist-packages/sklearn/metrics/_classification.py:1565: UndefinedMetricWarning: Precision is ill-defined and being set to 0.0 in labels with no predicted samples. Use `zero_division` parameter to control this behavior.\n",
            "  _warn_prf(average, modifier, f\"{metric.capitalize()} is\", len(result))\n",
            "/usr/local/lib/python3.11/dist-packages/sklearn/metrics/_classification.py:1565: UndefinedMetricWarning: Recall is ill-defined and being set to 0.0 in labels with no true samples. Use `zero_division` parameter to control this behavior.\n",
            "  _warn_prf(average, modifier, f\"{metric.capitalize()} is\", len(result))\n",
            "/usr/local/lib/python3.11/dist-packages/sklearn/metrics/_classification.py:1565: UndefinedMetricWarning: Precision is ill-defined and being set to 0.0 in labels with no predicted samples. Use `zero_division` parameter to control this behavior.\n",
            "  _warn_prf(average, modifier, f\"{metric.capitalize()} is\", len(result))\n",
            "/usr/local/lib/python3.11/dist-packages/sklearn/metrics/_classification.py:1565: UndefinedMetricWarning: Recall is ill-defined and being set to 0.0 in labels with no true samples. Use `zero_division` parameter to control this behavior.\n",
            "  _warn_prf(average, modifier, f\"{metric.capitalize()} is\", len(result))\n"
          ]
        }
      ]
    }
  ]
}